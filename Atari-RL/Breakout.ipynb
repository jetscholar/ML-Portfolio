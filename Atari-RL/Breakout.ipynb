{
 "cells": [
  {
   "cell_type": "markdown",
   "id": "1894d72d",
   "metadata": {},
   "source": [
    "# Breakout\n",
    "\n",
    "<img src=\"Atari-Breakout.jpg\" width=\"350\" />\n",
    "\n",
    "### pip install dependencies\n",
    "1. Install gym\n",
    "2. Install gym[atari]\n",
    "3. Install gym[accept-rom-license]\n",
    "4. Install keyboard"
   ]
  },
  {
   "cell_type": "code",
   "execution_count": 1,
   "id": "558b57f7",
   "metadata": {},
   "outputs": [
    {
     "name": "stdout",
     "output_type": "stream",
     "text": [
      "3.7.0\n"
     ]
    }
   ],
   "source": [
    "# Import Libraries\n",
    "import gym as gym\n",
    "import keyboard\n",
    "import time\n",
    "import matplotlib.pyplot as plt\n",
    "print(plt.matplotlib.__version__)"
   ]
  },
  {
   "cell_type": "code",
   "execution_count": 2,
   "id": "731cbfe7",
   "metadata": {},
   "outputs": [
    {
     "data": {
      "text/plain": [
       "(array([[[0, 0, 0],\n",
       "         [0, 0, 0],\n",
       "         [0, 0, 0],\n",
       "         ...,\n",
       "         [0, 0, 0],\n",
       "         [0, 0, 0],\n",
       "         [0, 0, 0]],\n",
       " \n",
       "        [[0, 0, 0],\n",
       "         [0, 0, 0],\n",
       "         [0, 0, 0],\n",
       "         ...,\n",
       "         [0, 0, 0],\n",
       "         [0, 0, 0],\n",
       "         [0, 0, 0]],\n",
       " \n",
       "        [[0, 0, 0],\n",
       "         [0, 0, 0],\n",
       "         [0, 0, 0],\n",
       "         ...,\n",
       "         [0, 0, 0],\n",
       "         [0, 0, 0],\n",
       "         [0, 0, 0]],\n",
       " \n",
       "        ...,\n",
       " \n",
       "        [[0, 0, 0],\n",
       "         [0, 0, 0],\n",
       "         [0, 0, 0],\n",
       "         ...,\n",
       "         [0, 0, 0],\n",
       "         [0, 0, 0],\n",
       "         [0, 0, 0]],\n",
       " \n",
       "        [[0, 0, 0],\n",
       "         [0, 0, 0],\n",
       "         [0, 0, 0],\n",
       "         ...,\n",
       "         [0, 0, 0],\n",
       "         [0, 0, 0],\n",
       "         [0, 0, 0]],\n",
       " \n",
       "        [[0, 0, 0],\n",
       "         [0, 0, 0],\n",
       "         [0, 0, 0],\n",
       "         ...,\n",
       "         [0, 0, 0],\n",
       "         [0, 0, 0],\n",
       "         [0, 0, 0]]], dtype=uint8),\n",
       " {'lives': 5, 'episode_frame_number': 0, 'frame_number': 0})"
      ]
     },
     "execution_count": 2,
     "metadata": {},
     "output_type": "execute_result"
    }
   ],
   "source": [
    "# setup the environment\n",
    "env = gym.make(\"ALE/Breakout-v5\", render_mode='human',\n",
    "              full_action_space=False, repeat_action_probability=0.1, obs_type='rgb')\n",
    "\n",
    "# Reset the environment, initializes the setup\n",
    "env.reset()"
   ]
  },
  {
   "cell_type": "code",
   "execution_count": 3,
   "id": "e3f51ef4",
   "metadata": {},
   "outputs": [
    {
     "name": "stdout",
     "output_type": "stream",
     "text": [
      "4\n"
     ]
    }
   ],
   "source": [
    "# check the number of actions\n",
    "num_actions = env.action_space.n\n",
    "print(num_actions)"
   ]
  },
  {
   "cell_type": "code",
   "execution_count": 4,
   "id": "0889739e",
   "metadata": {},
   "outputs": [
    {
     "name": "stdout",
     "output_type": "stream",
     "text": [
      "['NOOP', 'FIRE', 'RIGHT', 'LEFT']\n"
     ]
    }
   ],
   "source": [
    "# get the meaning of actions\n",
    "meaning = env.unwrapped.get_action_meanings()\n",
    "# ACTIONS\n",
    "#['NOOP', 'FIRE', 'RIGHT', 'LEFT']\n",
    "# [0,        1,      2,       3  ]\n",
    "print(meaning)"
   ]
  },
  {
   "cell_type": "code",
   "execution_count": 5,
   "id": "7d4493a6",
   "metadata": {},
   "outputs": [],
   "source": [
    "# map the keyboard with a dictionary\n",
    "actionDict={'w': 0, 's': 1, 'd': 2, 'a': 3}"
   ]
  },
  {
   "cell_type": "code",
   "execution_count": 6,
   "id": "598d25de",
   "metadata": {},
   "outputs": [],
   "source": [
    "# some tests\n",
    "env.reset()\n",
    "obs, reward, terminated, truncated, info = env.step(3)"
   ]
  },
  {
   "cell_type": "code",
   "execution_count": 7,
   "id": "47ce9874",
   "metadata": {},
   "outputs": [
    {
     "data": {
      "text/plain": [
       "<matplotlib.image.AxesImage at 0x192bb742fb0>"
      ]
     },
     "execution_count": 7,
     "metadata": {},
     "output_type": "execute_result"
    },
    {
     "data": {
      "image/png": "[encoded data removed]",
      "text/plain": [
       "<Figure size 800x800 with 1 Axes>"
      ]
     },
     "metadata": {},
     "output_type": "display_data"
    }
   ],
   "source": [
    "# visualize the observation\n",
    "# this is important for the development of deep Q network\n",
    "plt.figure(figsize=(8, 8))\n",
    "plt.imshow(obs)"
   ]
  },
  {
   "cell_type": "code",
   "execution_count": null,
   "id": "198d7ce4",
   "metadata": {},
   "outputs": [
    {
     "name": "stderr",
     "output_type": "stream",
     "text": [
      "C:\\Users\\mike_\\AppData\\Roaming\\Python\\Python310\\site-packages\\gym\\utils\\passive_env_checker.py:289: UserWarning: \u001b[33mWARN: No render fps was declared in the environment (env.metadata['render_fps'] is None or not defined), rendering may occur at inconsistent fps.\u001b[0m\n",
      "  logger.warn(\n"
     ]
    }
   ],
   "source": [
    "# Let's play!\n",
    "totalReward = 0\n",
    "while True:\n",
    "    # read the keyboard input\n",
    "    event = keyboard.read_event()\n",
    "    if actionDict.get(event.name, -1) != -1:\n",
    "        obs, reward, terminated, truncated, info = env.step(actionDict.get(event.name, -1))\n",
    "    totalReward = totalReward + reward\n",
    "    env.render()\n",
    "    time.sleep(0.05)\n",
    "    \n"
   ]
  },
  {
   "cell_type": "code",
   "execution_count": null,
   "id": "ff8d3779",
   "metadata": {},
   "outputs": [],
   "source": []
  }
 ],
 "metadata": {
  "kernelspec": {
   "display_name": "Python 3 (ipykernel)",
   "language": "python",
   "name": "python3"
  },
  "language_info": {
   "codemirror_mode": {
    "name": "ipython",
    "version": 3
   },
   "file_extension": ".py",
   "mimetype": "text/x-python",
   "name": "python",
   "nbconvert_exporter": "python",
   "pygments_lexer": "ipython3",
   "version": "3.10.9"
  }
 },
 "nbformat": 4,
 "nbformat_minor": 5
}
