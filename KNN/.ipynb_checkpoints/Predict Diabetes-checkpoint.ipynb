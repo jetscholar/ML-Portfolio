{
 "cells": [
  {
   "cell_type": "markdown",
   "id": "5bd6287e",
   "metadata": {},
   "source": [
    "## Predict Diabetes with K-NN\n",
    "\n",
    "### Objective: Predict whether a person will be diagnosed with diabetes or not\n",
    "\n",
    "- Dataset of 768 diagnosed people with or without diabetes"
   ]
  },
  {
   "cell_type": "code",
   "execution_count": 1,
   "id": "dde7c2e3",
   "metadata": {},
   "outputs": [],
   "source": [
    "# Libraries\n",
    "import pandas as pd\n",
    "import numpy as np\n",
    "from sklearn.model_selection import train_test_split\n",
    "from sklearn.preprocessing import StandardScaler\n",
    "from sklearn.neighbors import KNeighborsClassifier\n",
    "from sklearn.metrics import confusion_matrix\n",
    "from sklearn.metrics import f1_score\n",
    "from sklearn.metrics import accuracy_score"
   ]
  },
  {
   "cell_type": "code",
   "execution_count": null,
   "id": "802a5df5",
   "metadata": {},
   "outputs": [],
   "source": []
  }
 ],
 "metadata": {
  "kernelspec": {
   "display_name": "Python 3 (ipykernel)",
   "language": "python",
   "name": "python3"
  },
  "language_info": {
   "codemirror_mode": {
    "name": "ipython",
    "version": 3
   },
   "file_extension": ".py",
   "mimetype": "text/x-python",
   "name": "python",
   "nbconvert_exporter": "python",
   "pygments_lexer": "ipython3",
   "version": "3.10.9"
  }
 },
 "nbformat": 4,
 "nbformat_minor": 5
}
